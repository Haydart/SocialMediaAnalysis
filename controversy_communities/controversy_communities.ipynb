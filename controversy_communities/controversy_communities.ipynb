{
 "cells": [
  {
   "cell_type": "code",
   "execution_count": 13,
   "metadata": {
    "collapsed": true
   },
   "outputs": [
    {
     "name": "stdout",
     "output_type": "stream",
     "text": [
      "/Users/r.makowiecki\n"
     ]
    },
    {
     "name": "stdout",
     "output_type": "stream",
     "text": [
      "                    id      conversation_id     created_at        date  \\\n0  1064888716576129024  1064888716576129024  1542724229000  2018-11-20   \n1  1064885592671076359  1064885592671076359  1542723484000  2018-11-20   \n2  1064870214028967936  1064870214028967936  1542719818000  2018-11-20   \n3  1064826180736405504  1064824119416446976  1542709319000  2018-11-20   \n4  1064824678101860353  1064824119416446976  1542708961000  2018-11-20   \n\n       time timezone    user_id        username          name place  \\\n0  15:30:29      CET   17068564           astho         ASTHO   NaN   \n1  15:18:04      CET  447664346  darklordvyperx    Ken Miller   NaN   \n2  14:16:58      CET  252794509  picardonhealth  André Picard   NaN   \n3  11:21:59      CET   40649669     angobansaor          John   NaN   \n4  11:16:01      CET   40649669     angobansaor          John   NaN   \n\n         ...        retweet gif_url gif_thumb video_url video_thumb  \\\n0        ...            NaN     NaN       NaN       NaN         NaN   \n1        ...            NaN     NaN       NaN       NaN         NaN   \n2        ...            NaN     NaN       NaN       NaN         NaN   \n3        ...            NaN     NaN       NaN       NaN         NaN   \n4        ...            NaN     NaN       NaN       NaN         NaN   \n\n  is_quote_status  quote_id  quote_url  is_reply_to  has_parent_tweet  \n0               0         0        NaN            0                 0  \n1               0         0        NaN            0                 0  \n2               0         0        NaN            0                 0  \n3               0         0        NaN            1                 1  \n4               0         0        NaN            1                 1  \n\n[5 rows x 32 columns]\n"
     ]
    }
   ],
   "source": [
    "import networkx as nx\n",
    "import pandas as pd\n",
    "import os\n",
    "\n",
    "print(os.getcwd())\n",
    "\n",
    "\n",
    "tweets_df = pd.read_csv(\"PycharmProjects/SocialMediaAnalysis/controversy_communities/twitter_data/antivax.csv\")\n",
    "tweets_df = tweets_df.drop([\"name place\", \"video_thumb\", \"gif_thumb\", \"gif_url\"])\n",
    "print(tweets_df.head())\n",
    "graph = nx.Graph()\n"
   ]
  },
  {
   "cell_type": "code",
   "execution_count": null,
   "metadata": {},
   "outputs": [],
   "source": []
  }
 ],
 "metadata": {
  "kernelspec": {
   "display_name": "Python 2",
   "language": "python",
   "name": "python2"
  },
  "language_info": {
   "codemirror_mode": {
    "name": "ipython",
    "version": 2
   },
   "file_extension": ".py",
   "mimetype": "text/x-python",
   "name": "python",
   "nbconvert_exporter": "python",
   "pygments_lexer": "ipython2",
   "version": "2.7.6"
  }
 },
 "nbformat": 4,
 "nbformat_minor": 0
}
