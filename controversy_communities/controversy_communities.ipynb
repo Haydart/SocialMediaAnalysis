{
 "cells": [
  {
   "cell_type": "code",
   "execution_count": 61,
   "metadata": {
    "collapsed": true
   },
   "outputs": [
    {
     "name": "stdout",
     "output_type": "stream",
     "text": [
      "['id' 'conversation_id' 'created_at' 'date' 'time' 'timezone' 'user_id'\n 'username' 'tweet' 'tags' 'replies' 'mentions' 'urls' 'photos'\n 'replies_count' 'retweets_count' 'likes_count' 'hashtags' 'link'\n 'retweet' 'is_quote_status' 'quote_id' 'quote_url' 'is_reply_to'\n 'has_parent_tweet']\n                    id      conversation_id     created_at        date  \\\n0  1064888716576129024  1064888716576129024  1542724229000  2018-11-20   \n1  1064885592671076359  1064885592671076359  1542723484000  2018-11-20   \n2  1064870214028967936  1064870214028967936  1542719818000  2018-11-20   \n3  1064826180736405504  1064824119416446976  1542709319000  2018-11-20   \n4  1064824678101860353  1064824119416446976  1542708961000  2018-11-20   \n\n       time timezone    user_id        username  \\\n0  15:30:29      CET   17068564           astho   \n1  15:18:04      CET  447664346  darklordvyperx   \n2  14:16:58      CET  252794509  picardonhealth   \n3  11:21:59      CET   40649669     angobansaor   \n4  11:16:01      CET   40649669     angobansaor   \n\n                                               tweet tags        ...         \\\n0  A North Carolina town w/ widespread #antivax b...   []        ...          \n1  #vaccinate #antivaxxersareidiots #antivax #vac...   []        ...          \n2  Huge #chickenpox outbreak in North Carolina dr...   []        ...          \n3  This is how Ireland’s medical community fought...   []        ...          \n4  This is the negative impact the HPV #antivax m...   []        ...          \n\n  retweets_count likes_count  \\\n0              1           0   \n1              0           0   \n2              7           4   \n3              1           4   \n4              1           3   \n\n                                            hashtags  \\\n0       ['#antivax', '#chickenpox', '#vaccineswork']   \n1  ['#vaccinate', '#antivaxxersareidiots', '#anti...   \n2        ['#chickenpox', '#vaccination', '#antivax']   \n3                                       ['#antivax']   \n4                                       ['#antivax']   \n\n                                                link  retweet  \\\n0  https://twitter.com/ASTHO/status/1064888716576...      NaN   \n1  https://twitter.com/DarkLordVyperX/status/1064...      NaN   \n2  https://twitter.com/picardonhealth/status/1064...      NaN   \n3  https://twitter.com/AnGobanSaor/status/1064826...      NaN   \n4  https://twitter.com/AnGobanSaor/status/1064824...      NaN   \n\n   is_quote_status  quote_id quote_url is_reply_to  has_parent_tweet  \n0                0         0       NaN           0                 0  \n1                0         0       NaN           0                 0  \n2                0         0       NaN           0                 0  \n3                0         0       NaN           1                 1  \n4                0         0       NaN           1                 1  \n\n[5 rows x 25 columns]\ncount    3712.000000\nmean        1.658136\nstd         4.460285\nmin         1.000000\n25%         1.000000\n50%         1.000000\n75%         1.000000\nmax       137.000000\nName: mentions, dtype: float64\n"
     ]
    }
   ],
   "source": [
    "import networkx as nx\n",
    "import pandas as pd\n",
    "\n",
    "tweets_df = pd.read_csv('PycharmProjects/SocialMediaAnalysis/controversy_communities/twitter_data/antivax.csv')\n",
    "tweets_df = tweets_df.drop(columns=['name', 'place', 'video_thumb', 'video_url', 'gif_thumb', 'gif_url', 'location'])\n",
    "print(tweets_df.columns.values)\n",
    "print(tweets_df.head())"
   ]
  },
  {
   "cell_type": "code",
   "execution_count": 62,
   "metadata": {},
   "outputs": [
    {
     "name": "stdout",
     "output_type": "stream",
     "text": [
      "count    3712.000000\nmean        1.658136\nstd         4.460285\nmin         1.000000\n25%         1.000000\n50%         1.000000\n75%         1.000000\nmax       137.000000\nName: mentions, dtype: float64\n"
     ]
    }
   ],
   "source": [
    "#peek at mentions in dataset\n",
    "mentions = tweets_df.groupby(['mentions'])['mentions'].count() \n",
    "print(mentions.drop('[]').describe())"
   ]
  },
  {
   "cell_type": "code",
   "execution_count": null,
   "metadata": {},
   "outputs": [],
   "source": [
    ""
   ]
  }
 ],
 "metadata": {
  "kernelspec": {
   "display_name": "Python 2",
   "language": "python",
   "name": "python2"
  },
  "language_info": {
   "codemirror_mode": {
    "name": "ipython",
    "version": 2
   },
   "file_extension": ".py",
   "mimetype": "text/x-python",
   "name": "python",
   "nbconvert_exporter": "python",
   "pygments_lexer": "ipython2",
   "version": "2.7.6"
  }
 },
 "nbformat": 4,
 "nbformat_minor": 0
}
